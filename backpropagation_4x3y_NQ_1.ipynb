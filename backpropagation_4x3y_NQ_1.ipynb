{
  "cells": [
    {
      "cell_type": "markdown",
      "metadata": {
        "id": "view-in-github",
        "colab_type": "text"
      },
      "source": [
        "<a href=\"https://colab.research.google.com/github/husthorng/hello-world/blob/horng_1/backpropagation_4x3y_NQ_1.ipynb\" target=\"_parent\"><img src=\"https://colab.research.google.com/assets/colab-badge.svg\" alt=\"Open In Colab\"/></a>"
      ]
    },
    {
      "cell_type": "code",
      "source": [
        "import numpy as np\n",
        "import matplotlib\n",
        "import matplotlib.pyplot as plt\n",
        "import csv\n",
        "import pandas as pd\n",
        "\n",
        "\n",
        "\n",
        "def sigmoid(x,deriv=False):\n",
        "    if(deriv==True):\n",
        "        return x*(1-x)\n",
        "\n",
        "    return 1/(1+np.exp(-x))\n",
        "\n",
        "\n",
        "\n",
        "\n",
        "\n",
        "epstep=500\n",
        "\n",
        "#numTag = int(input('Insert the number Neurons into Output Layer: '))\n",
        "#epochs = int(input('Insert the number of Epochs: '))\n",
        "#hidden_node = int(input('Insert the number Neurons into Hidden Layer: '))\n",
        "#lr = float(input('Insert Learning Rate: '))\n",
        "#limer = float(input('Insert Expected Error: '))\n",
        "numTag=3\n",
        "pernum=100\n",
        "epochs=10000\n",
        "hidden_node=6\n",
        "lr=0.02\n",
        "SSE_Goal=0.05\n",
        "\n",
        "\n",
        "#ur2 = \"https://raw.githubusercontent.com/husthorng/hello-world/horng_1/N_Q.csv\"\n",
        "\n",
        "ur2 =\"https://raw.githubusercontent.com/husthorng/Backpropagation_NN/main/data4X3y_NQ.csv\""
      ],
      "metadata": {
        "id": "gT9xjl4NgeON"
      },
      "execution_count": null,
      "outputs": []
    },
    {
      "cell_type": "code",
      "source": [],
      "metadata": {
        "id": "XpZ4DDcVh-yW"
      },
      "execution_count": null,
      "outputs": []
    },
    {
      "cell_type": "code",
      "source": [
        "SSE_Goal=0.01"
      ],
      "metadata": {
        "id": "onL94TuUSxMQ"
      },
      "execution_count": null,
      "outputs": []
    },
    {
      "cell_type": "code",
      "source": [
        "records = pd.read_csv(ur2,encoding='utf-8')\n",
        "Xi1=records.iloc[0:records.shape[0]].values\n",
        "\n",
        "max_min_Xi=np.array([list(np.max(Xi1,axis=0)),list(np.min(Xi1,axis=0))])\n",
        "ptp_Xi=np.ptp(max_min_Xi,axis=0)\n",
        "NXi=(Xi1 - np.min(Xi1,axis=0))/ptp_Xi\n",
        "#NXi*ptp_Xi+max_min_Xi[1]"
      ],
      "metadata": {
        "id": "MdXCkcg-G_1f"
      },
      "execution_count": null,
      "outputs": []
    },
    {
      "cell_type": "code",
      "source": [
        "NXi[0]"
      ],
      "metadata": {
        "colab": {
          "base_uri": "https://localhost:8080/"
        },
        "id": "whQyYqDKQhnD",
        "outputId": "c4388b2d-8779-45b0-feb5-10fb63b82f1a"
      },
      "execution_count": null,
      "outputs": [
        {
          "output_type": "execute_result",
          "data": {
            "text/plain": [
              "array([0.3       , 0.2       , 0.796875  , 0.1       , 0.83764724,\n",
              "       0.82330265, 0.84185418])"
            ]
          },
          "metadata": {},
          "execution_count": 6
        }
      ]
    },
    {
      "cell_type": "markdown",
      "source": [
        "array([0.3       , 0.2       , 0.796875  , 0.1       , 0.83764724,\n",
        "       0.82330265, 0.84185418])\n"
      ],
      "metadata": {
        "id": "QJqSCiLtfClt"
      }
    },
    {
      "cell_type": "code",
      "source": [
        "Xi1=pd.DataFrame(Xi1)\n",
        "inputD=Xi1.iloc[0:Xi1.shape[0],0:Xi1.shape[1]-numTag].values\n",
        "#inputD[0] #[234.  ,   0.34, 115.  ,   0.37]\n",
        "targetD=Xi1.iloc[:,list(Xi1.shape[1]-np.arange(numTag,0,-1))].values\n",
        "#targetD[0] #[ 47.39592, 943.3549 ]"
      ],
      "metadata": {
        "id": "R5q4KzjyrVUL"
      },
      "execution_count": null,
      "outputs": []
    },
    {
      "cell_type": "code",
      "source": [
        "targetD[0]"
      ],
      "metadata": {
        "colab": {
          "base_uri": "https://localhost:8080/"
        },
        "id": "HqFNu0onfJpo",
        "outputId": "097c2085-07d3-4026-d86c-0e4e3199b29a"
      },
      "execution_count": null,
      "outputs": [
        {
          "output_type": "execute_result",
          "data": {
            "text/plain": [
              "array([ 47.39592   , 943.3549    ,  78.11000309])"
            ]
          },
          "metadata": {},
          "execution_count": 4
        }
      ]
    },
    {
      "cell_type": "code",
      "source": [
        "W1=np.random.rand(hidden_node,inputD.shape[1]+1)*0.5\n",
        "W2=np.random.rand(targetD.shape[1],hidden_node+1)*0.5\n",
        "onex=np.ones(inputD.shape[0],dtype=int)\n"
      ],
      "metadata": {
        "id": "Q7OJ5YkrNkX2"
      },
      "execution_count": null,
      "outputs": []
    },
    {
      "cell_type": "code",
      "source": [
        "max_min_l=np.array([list(np.max(inputD,axis=0)),list(np.min(inputD,axis=0))])\n",
        "#max_min_l=np.array([max_min_l[0]*1.1,max_min_l[1]*0.9])\n",
        "#max_min_l"
      ],
      "metadata": {
        "id": "KMtRXaGwN4Eb"
      },
      "execution_count": null,
      "outputs": []
    },
    {
      "cell_type": "code",
      "source": [
        "np.insert(inputD,0,max_min_l,axis=0)\n",
        "inputD1=np.insert(inputD,0,max_min_l,axis=0)\n",
        "ptp_inputD1=np.ptp(inputD1,axis=0)"
      ],
      "metadata": {
        "id": "4XjoKWxSORXC"
      },
      "execution_count": null,
      "outputs": []
    },
    {
      "cell_type": "code",
      "source": [
        "inputD2=(inputD1 - np.min(inputD1,axis=0))/ptp_inputD1\n",
        "#inputD2\n",
        "inputD3=inputD2[2:,:]\n",
        "#inputD3\n",
        "inputD3_1=np.insert(inputD3, 0, 1, axis=1)\n",
        "inputD3_1[0] #array([1.      , 0.3     , 0.2     , 0.796875, 0.1     ])\n"
      ],
      "metadata": {
        "id": "YK2iN9tKOpQg",
        "colab": {
          "base_uri": "https://localhost:8080/"
        },
        "outputId": "a5c04c18-e40a-4661-812f-b8cedf0d59a8"
      },
      "execution_count": null,
      "outputs": [
        {
          "output_type": "execute_result",
          "data": {
            "text/plain": [
              "array([1.      , 0.3     , 0.2     , 0.796875, 0.1     ])"
            ]
          },
          "metadata": {},
          "execution_count": 8
        }
      ]
    },
    {
      "cell_type": "code",
      "source": [
        "inputD3_1[0]"
      ],
      "metadata": {
        "colab": {
          "base_uri": "https://localhost:8080/"
        },
        "id": "v0MhHMRJfZ8W",
        "outputId": "51a80fa1-bd97-45e7-9fca-8634311a2cdb"
      },
      "execution_count": null,
      "outputs": [
        {
          "output_type": "execute_result",
          "data": {
            "text/plain": [
              "array([1.      , 0.3     , 0.2     , 0.796875, 0.1     ])"
            ]
          },
          "metadata": {},
          "execution_count": 9
        }
      ]
    },
    {
      "cell_type": "code",
      "source": [
        "max_min_T=np.array([list(np.max(targetD,axis=0)),list(np.min(targetD,axis=0))])\n",
        "#max_min_T=np.array([max_min_T[0]*1.1,max_min_T[1]*0.9])\n",
        "#print(max_min_T)\n",
        "targetD1=np.insert(targetD,0,max_min_T,axis=0)\n",
        "\n",
        "ptp_targetD1=np.ptp(targetD1,axis=0)\n",
        "targetD2=(targetD1 - np.min(targetD1,axis=0))/ptp_targetD1\n",
        "targetD3=targetD2[2:,:] #targetD3[0] array([0.69958759, 0.67419037, 0.68274371])"
      ],
      "metadata": {
        "id": "5OZ-X74vRcc0"
      },
      "execution_count": null,
      "outputs": []
    },
    {
      "cell_type": "code",
      "source": [
        "targetD3[0]"
      ],
      "metadata": {
        "id": "XSzH5pNLRgK-",
        "colab": {
          "base_uri": "https://localhost:8080/"
        },
        "outputId": "008ec1e7-1608-4344-e668-ae777b6620d2"
      },
      "execution_count": null,
      "outputs": [
        {
          "output_type": "execute_result",
          "data": {
            "text/plain": [
              "array([0.69958759, 0.67419037, 0.68274371])"
            ]
          },
          "metadata": {},
          "execution_count": 11
        }
      ]
    },
    {
      "cell_type": "code",
      "source": [
        "ersum=100\n",
        "ix=1\n",
        "losses=[]\n",
        "index_N=[]\n",
        "# SSE_Goal=10\n",
        "while ersum > SSE_Goal:\n",
        "  net_h=inputD3_1@W1.T\n",
        "  out_h=sigmoid(net_h,deriv=False)\n",
        "  out_H1=np.insert(out_h, 0, 1, axis=1)\n",
        "  net_o=out_H1@W2.T\n",
        "  out_o=sigmoid(net_o,deriv=False)\n",
        "  er=targetD3-out_o\n",
        "  ersum=np.sum(er**2)\n",
        "  if ix%pernum==0:\n",
        "    losses.append(ersum)\n",
        "    index_N.append(ix)\n",
        "    print(\"run:\",ix,\"sumer=\",ersum)\n",
        "  ix+=1\n",
        "  delta_o=out_o*(1-out_o)*er #delta_o= (300, 2)\n",
        "  ckdao=delta_o.T@out_H1\n",
        "  delta_W2=lr*delta_o.T@out_H1\n",
        "  W2 = W2+delta_W2\n",
        "  data2=out_h*(1-out_h)\n",
        "  data1=(delta_o@W2[:,1:])*data2\n",
        "  delw1=lr*((inputD3_1.T@data1).T)\n",
        "  W1=W1+delw1\n",
        "\n",
        "out_o_V=out_o*ptp_targetD1+max_min_T[1]\n",
        "df = pd.DataFrame(out_o_V)\n",
        "df.to_csv(\"out_o_V.csv\")\n",
        "\n",
        "if ersum < SSE_Goal :\n",
        "    print(\"ersum < SSE_Goal \")\n",
        "#    break\n",
        "else:\n",
        "    print(\"ersum > SSE_Goal\")"
      ],
      "metadata": {
        "id": "tG1hCGCXPaxF"
      },
      "execution_count": null,
      "outputs": []
    },
    {
      "cell_type": "code",
      "source": [
        "hidden_node=6; lr=0.02; SSE_Goal=0.01"
      ],
      "metadata": {
        "id": "U7yxwqsJAf7S"
      },
      "execution_count": null,
      "outputs": []
    },
    {
      "cell_type": "markdown",
      "source": [
        "hidden_node=6;\n",
        "lr=0.02;\n",
        "SSE_Goal=0.01\n",
        "\n",
        "W1=np.array([[-0.38262659,  1.39890084, -0.58987845, -0.19331986,  0.2486675 ],\n",
        "       [ 0.060536  ,  0.38027022, -0.10182786,  1.21170302, -0.18310955],\n",
        "       [ 0.32920943, -0.12128563,  0.17695524,  1.10817581, -0.12528632],\n",
        "       [ 2.52319776,  0.39015072, -0.15150832, -2.42112421,  0.74852803],\n",
        "       [ 1.89229534, -0.6908049 ,  0.274121  ,  3.10884226, -1.09271158],\n",
        "       [ 0.8093925 ,  0.12113492,  0.04060542, -1.03338608,  0.53871134]])"
      ],
      "metadata": {
        "id": "_2MU6U9tj5U-"
      }
    },
    {
      "cell_type": "markdown",
      "source": [
        "W2=np.array([[-1.23495779, -0.25689133,  1.46324711,  1.01499469, -2.41233065,\n",
        "         2.79978327, -1.51699021],\n",
        "       [ 0.68474566, -2.35551665,  0.56113811,  0.9480747 , -1.69663203,\n",
        "         1.77221886, -1.21282795],\n",
        "       [-0.62938508, -0.7000532 ,  1.19344034,  0.89346952, -2.09641734,\n",
        "         2.27963934, -1.310527  ]])"
      ],
      "metadata": {
        "id": "r2EmZ4Q5kDlO"
      }
    },
    {
      "cell_type": "code",
      "source": [
        "train_labels[0]"
      ],
      "metadata": {
        "colab": {
          "base_uri": "https://localhost:8080/"
        },
        "id": "lGXHFx-vDThk",
        "outputId": "b7d57917-bdbd-436e-8529-9a0f8dec6186"
      },
      "execution_count": null,
      "outputs": [
        {
          "output_type": "execute_result",
          "data": {
            "text/plain": [
              "array([0.4721417 , 0.52091725, 0.48813668])"
            ]
          },
          "metadata": {},
          "execution_count": 33
        }
      ]
    },
    {
      "cell_type": "code",
      "source": [
        "syn1"
      ],
      "metadata": {
        "id": "0YlAdf6Q-GZa",
        "colab": {
          "base_uri": "https://localhost:8080/"
        },
        "outputId": "4b9db12f-3816-4171-e423-f466420718d9"
      },
      "execution_count": null,
      "outputs": [
        {
          "output_type": "execute_result",
          "data": {
            "text/plain": [
              "array([[0.34943747, 0.25321456, 0.35026632, 0.32751372, 0.26450567,\n",
              "        0.09933679, 0.38934922],\n",
              "       [0.47602779, 0.31220756, 0.49179925, 0.11174911, 0.24017488,\n",
              "        0.20602072, 0.19859823],\n",
              "       [0.1743148 , 0.36846553, 0.49799018, 0.39242249, 0.14420891,\n",
              "        0.02755564, 0.23404105]])"
            ]
          },
          "metadata": {},
          "execution_count": 60
        }
      ]
    },
    {
      "cell_type": "code",
      "execution_count": null,
      "metadata": {
        "id": "_rYi2L6lrEAD",
        "colab": {
          "base_uri": "https://localhost:8080/",
          "height": 333
        },
        "outputId": "490daeba-c19d-407b-cb62-ec3ccc6ac4d9"
      },
      "outputs": [
        {
          "output_type": "display_data",
          "data": {
            "text/plain": [
              "<Figure size 500x300 with 1 Axes>"
            ],
            "image/png": "[encoded data removed]"
          },
          "metadata": {}
        }
      ],
      "source": [
        "fig, ax = plt.subplots(figsize=(5, 3))\n",
        "ax.scatter(index_N, losses)\n",
        "#plt.scatter(index_N, losses)\n",
        "plt.title('Training Loss')\n",
        "plt.xlabel('Epoch')\n",
        "plt.ylabel('Loss')\n",
        "plt.show()\n",
        "\n"
      ]
    },
    {
      "cell_type": "code",
      "source": [
        "max_min_T[:,0][1]"
      ],
      "metadata": {
        "colab": {
          "base_uri": "https://localhost:8080/"
        },
        "id": "FEHrd8qpvTbm",
        "outputId": "446a8e68-913a-4c28-e5f6-c3a2ea9f4356"
      },
      "execution_count": null,
      "outputs": [
        {
          "output_type": "execute_result",
          "data": {
            "text/plain": [
              "28.609416"
            ]
          },
          "metadata": {},
          "execution_count": 101
        }
      ]
    },
    {
      "cell_type": "code",
      "source": [
        "import matplotlib.pyplot as plt\n",
        "from matplotlib import gridspec\n",
        "import numpy as np\n",
        "\n",
        "import pandas as pd\n",
        "\n",
        "fig = plt.figure()\n",
        "fig.set_figheight(5)\n",
        "fig.set_figwidth(18)\n",
        "spec = gridspec.GridSpec(ncols=3, nrows=1,\n",
        "              width_ratios=[1, 1,1], wspace=0.2,\n",
        "              hspace=0.5, height_ratios=[1])\n",
        "ax0 = fig.add_subplot(spec[0])\n",
        "#ax0.plot(max_min_T[:,0][0],max_min_T[:,0][1],color = \"b\")\n",
        "\n",
        "ax0.scatter(targetD[:,0], out_o_V[:,0],color = \"b\")\n",
        "ax0.set_title('train_labels_ax0')\n",
        "\n",
        "ax1 = fig.add_subplot(spec[1])\n",
        "#ax1.plot([0, 1],color = \"r\")\n",
        "ax1.scatter(targetD[:,1], out_o_V[:,1],color = \"r\")\n",
        "ax1.set_title('train_labels_ax1')\n",
        "\n",
        "ax2 = fig.add_subplot(spec[2])\n",
        "#ax2.plot([0, 1],color = \"y\")\n",
        "ax2.scatter(targetD[:,2], out_o_V[:,2],color = \"y\")\n",
        "ax2.set_title('train_labels_ax2')\n",
        "\n",
        "#plt.title('')\n",
        "\n",
        "ax0.set_xlabel('Target')\n",
        "ax0.set_ylabel('Predict.')\n",
        "ax1.set_xlabel('Target')\n",
        "ax1.set_ylabel('Predict.')\n",
        "ax2.set_xlabel('Target')\n",
        "ax2.set_ylabel('Predict.')\n",
        "plt.show()\n"
      ],
      "metadata": {
        "id": "6MP6IjBEhdDz",
        "colab": {
          "base_uri": "https://localhost:8080/",
          "height": 487
        },
        "outputId": "115be0c1-203c-4d76-ba42-163807b40800"
      },
      "execution_count": null,
      "outputs": [
        {
          "output_type": "display_data",
          "data": {
            "text/plain": [
              "<Figure size 1800x500 with 3 Axes>"
            ],
            "image/png": "[encoded data removed]"
          },
          "metadata": {}
        }
      ]
    },
    {
      "cell_type": "code",
      "source": [],
      "metadata": {
        "id": "HdKVjztSyb3i"
      },
      "execution_count": null,
      "outputs": []
    },
    {
      "cell_type": "code",
      "source": [],
      "metadata": {
        "id": "LDYA3x06ycNr"
      },
      "execution_count": null,
      "outputs": []
    },
    {
      "cell_type": "code",
      "source": [],
      "metadata": {
        "id": "O6O7fmfLycX-"
      },
      "execution_count": null,
      "outputs": []
    },
    {
      "cell_type": "code",
      "source": [],
      "metadata": {
        "id": "xeMHymXmyciQ"
      },
      "execution_count": null,
      "outputs": []
    },
    {
      "cell_type": "code",
      "source": [],
      "metadata": {
        "id": "HDdFOAokycm9"
      },
      "execution_count": null,
      "outputs": []
    },
    {
      "cell_type": "code",
      "source": [],
      "metadata": {
        "id": "J3M3-oa-ycrY"
      },
      "execution_count": null,
      "outputs": []
    },
    {
      "cell_type": "code",
      "source": [
        "import numpy as np\n",
        "import csv\n",
        "import pandas as pd\n",
        "urlsyn0 = \"https://raw.githubusercontent.com/husthorng/Backpropagation_NN/main/4X3ysyn0.csv\"\n",
        "urlsyn1 = \"https://raw.githubusercontent.com/husthorng/Backpropagation_NN/main/4X3ysyn1.csv\"\n",
        "syn0t = pd.read_csv(urlsyn0,encoding='utf-8',header=None)\n",
        "syn0t=np.array(syn0t)\n",
        "syn0=syn0t[1:,1:]\n",
        "syn1t = pd.read_csv(urlsyn1,encoding='utf-8',header=None)\n",
        "syn1t=np.array(syn1t)\n",
        "syn1=syn1t[1:,1:]\n",
        "nOutputs=syn1.shape[1]\n",
        "\n",
        "def sigmoid(x,deriv=False):\n",
        "    if(deriv==True):\n",
        "        return x*(1-x)\n",
        "\n",
        "    return 1/(1+np.exp(-x))\n",
        "\n"
      ],
      "metadata": {
        "id": "gj2_OTjwPhWu"
      },
      "execution_count": null,
      "outputs": []
    },
    {
      "cell_type": "code",
      "source": [
        "import numpy as np\n",
        "import csv\n",
        "import pandas as pd\n",
        "url = \"https://raw.githubusercontent.com/husthorng/Backpropagation_NN/main/data4X3y.csv\"\n",
        "records = pd.read_csv(url,encoding='utf-8',header=None)\n",
        "Xi=records.iloc[0:records.shape[0],0:records.shape[1]-nOutputs].values\n",
        "y=records.iloc[:,list(records.shape[1]-np.arange(nOutputs,0,-1))].values\n",
        "X=np.insert(Xi,Xi[0].size,1,axis=1)\n",
        "from sklearn.model_selection import train_test_split\n",
        "res = train_test_split(X, y,\n",
        "            train_size=0.8,\n",
        "            test_size=0.2,\n",
        "            random_state=42)\n",
        "train_data, test_data, train_labels, test_labels = res\n"
      ],
      "metadata": {
        "id": "sueZsyDeUcAW"
      },
      "execution_count": null,
      "outputs": []
    },
    {
      "cell_type": "code",
      "source": [
        "l0 = test_data\n",
        "l1 = sigmoid(np.dot(l0,syn0))\n",
        "l1=np.insert(l1,l1[0].size,1,axis=1)\n",
        "l2 = sigmoid(np.dot(l1,syn1))\n",
        "for i in range(l2.shape[0]):\n",
        "  for j in range(l2.shape[1]):\n",
        "    if l2[i][j] > 0.5:\n",
        "      l2[i][j]=1\n",
        "    else:\n",
        "      l2[i][j]=0"
      ],
      "metadata": {
        "id": "szcBHVNhQP0h"
      },
      "execution_count": null,
      "outputs": []
    },
    {
      "cell_type": "code",
      "source": [
        "\n",
        "import matplotlib.pyplot as plt\n",
        "from matplotlib import gridspec\n",
        "fig = plt.figure()\n",
        "fig.set_figheight(5)\n",
        "fig.set_figwidth(18)\n",
        "spec = gridspec.GridSpec(ncols=3, nrows=1,\n",
        "              width_ratios=[1, 1,1], wspace=0.2,\n",
        "              hspace=0.5, height_ratios=[1])\n",
        "ax0 = fig.add_subplot(spec[0])\n",
        "ax0.plot([0, 1],color = \"b\")\n",
        "ax0.scatter(test_labels[:,0], l2[:,0],color = \"b\")\n",
        "ax0.set_title('test_labels_ax0')\n",
        "\n",
        "ax1 = fig.add_subplot(spec[1])\n",
        "ax1.plot([0, 1],color = \"r\")\n",
        "ax1.scatter(test_labels[:,1], l2[:,1],color = \"r\")\n",
        "ax1.set_title('test_labels_ax1')\n",
        "\n",
        "ax2 = fig.add_subplot(spec[2])\n",
        "ax2.plot([0, 1],color = \"y\")\n",
        "ax2.scatter(test_labels[:,2], l2[:,2],color = \"y\")\n",
        "ax2.set_title('test_labels_ax2')\n",
        "\n",
        "\n",
        "ax0.set_xlabel('Target')\n",
        "ax0.set_ylabel('Predict.')\n",
        "ax1.set_xlabel('Target')\n",
        "ax1.set_ylabel('Predict.')\n",
        "ax2.set_xlabel('Target')\n",
        "ax2.set_ylabel('Predict.')\n",
        "plt.show()"
      ],
      "metadata": {
        "colab": {
          "base_uri": "https://localhost:8080/",
          "height": 487
        },
        "id": "DAjB8X2yRkrO",
        "outputId": "28b44021-af86-447d-8f16-6e53c1c13a84"
      },
      "execution_count": null,
      "outputs": [
        {
          "output_type": "display_data",
          "data": {
            "text/plain": [
              "<Figure size 1800x500 with 3 Axes>"
            ],
            "image/png": "[encoded data removed]"
          },
          "metadata": {}
        }
      ]
    },
    {
      "cell_type": "code",
      "source": [
        "from sklearn.model_selection import train_test_split\n",
        "res = train_test_split(inputD3_1, targetD3,\n",
        "            train_size=0.8,\n",
        "            test_size=0.2,\n",
        "            random_state=42)\n",
        "train_data, test_data, train_labels, test_labels = res"
      ],
      "metadata": {
        "id": "-4ceu6yoUPd-"
      },
      "execution_count": null,
      "outputs": []
    }
  ],
  "metadata": {
    "kernelspec": {
      "display_name": "Python 3",
      "language": "python",
      "name": "python3"
    },
    "language_info": {
      "codemirror_mode": {
        "name": "ipython",
        "version": 3
      },
      "file_extension": ".py",
      "mimetype": "text/x-python",
      "name": "python",
      "nbconvert_exporter": "python",
      "pygments_lexer": "ipython3",
      "version": "3.7.6"
    },
    "colab": {
      "provenance": [],
      "name": "backpropagation_4x3y_NQ_1.ipynb",
      "include_colab_link": true
    }
  },
  "nbformat": 4,
  "nbformat_minor": 0
}