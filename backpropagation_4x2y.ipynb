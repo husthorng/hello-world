{
  "cells": [
    {
      "cell_type": "markdown",
      "metadata": {
        "id": "view-in-github",
        "colab_type": "text"
      },
      "source": [
        "<a href=\"https://colab.research.google.com/github/husthorng/hello-world/blob/neural_networks_4X2y/backpropagation_4x2y.ipynb\" target=\"_parent\"><img src=\"https://colab.research.google.com/assets/colab-badge.svg\" alt=\"Open In Colab\"/></a>"
      ]
    },
    {
      "cell_type": "code",
      "execution_count": null,
      "metadata": {
        "id": "_rYi2L6lrEAD",
        "colab": {
          "base_uri": "https://localhost:8080/"
        },
        "outputId": "f24b5066-9a69-49db-becc-2cd8c742b6f2"
      },
      "outputs": [
        {
          "output_type": "stream",
          "name": "stdout",
          "text": [
            "Error:0.4980534168902378\n",
            "Error:0.005902032130759731\n",
            "Error:0.004056950373963072\n",
            "Error:0.003270620247363478\n",
            "Error:0.0028105426293095863\n",
            "Error:0.002500240080621688\n",
            "output after Training:\n",
            "[[9.97235679e-01 9.97325994e-01]\n",
            " [2.03771833e-03 9.99995063e-01]\n",
            " [9.97145585e-01 3.57892934e-03]\n",
            " [4.42623428e-03 1.03936301e-05]\n",
            " [2.43049239e-03 9.99998142e-01]\n",
            " [9.99744573e-01 9.96353465e-01]\n",
            " [9.96341559e-01 3.47982677e-03]]\n"
          ]
        }
      ],
      "source": [
        "import numpy as np\n",
        "\n",
        "def nonlin(x,deriv=False):\n",
        "    if(deriv==True):\n",
        "        return x*(1-x)\n",
        "\n",
        "    return 1/(1+np.exp(-x))\n",
        "\n",
        "import csv\n",
        "import pandas as pd\n",
        "\n",
        "numTag=2   #   輸出的數目\n",
        "nnode=4\n",
        "url = \"https://raw.githubusercontent.com/husthorng/Backpropagation_NN/main/exdata4X2y.csv\"\n",
        "records = pd.read_csv(url,encoding='utf-8',header=None)\n",
        "Xi=records.iloc[0:records.shape[0],0:records.shape[1]-numTag].values\n",
        "y=records.iloc[:,list(records.shape[1]-np.arange(numTag,0,-1))].values\n",
        "\n",
        "X=np.insert(Xi,Xi[0].size,1,axis=1)\n",
        "np.random.seed(1)\n",
        "# randomly initialize our weights with mean 0\n",
        "syn0 = 2*np.random.random((X[0].size,nnode)) - 1\n",
        "syn1 = 2*np.random.random((nnode+1,numTag)) - 1\n",
        "\n",
        "for j in range(60000):\n",
        "\n",
        "\t# Feed forward through layers 0, 1, and 2\n",
        "    l0 = X\n",
        "    l1 = nonlin(np.dot(l0,syn0))\n",
        "    l1=np.insert(l1,l1[0].size,1,axis=1)\n",
        "    l2 = nonlin(np.dot(l1,syn1))\n",
        "\n",
        "    # how much did we miss the target value?\n",
        "    l2_error = y - l2\n",
        "\n",
        "    if (j% 10000) == 0:\n",
        "        print(\"Error:\" + str(np.mean(np.abs(l2_error))))\n",
        "\n",
        "    # in what direction is the target value?\n",
        "    # were we really sure? if so, don't change too much.\n",
        "    l2_delta = l2_error*nonlin(l2,deriv=True)\n",
        "\n",
        "    # how much did each l1 value contribute to the l2 error (according to the weights)?\n",
        "    l1_error = l2_delta.dot(syn1.T)\n",
        "\n",
        "    # in what direction is the target l1?\n",
        "    # were we really sure? if so, don't change too much.\n",
        "    l1_delta = l1_error * nonlin(l1,deriv=True)\n",
        "\n",
        "    syn1 += l1.T.dot(l2_delta)\n",
        "    syn0 += l0.T.dot(l1_delta)[:,:-1]\n",
        "\n",
        "#print output\n",
        "print(\"output after Training:\")\n",
        "print(l2)"
      ]
    },
    {
      "cell_type": "code",
      "source": [
        "syn0"
      ],
      "metadata": {
        "colab": {
          "base_uri": "https://localhost:8080/"
        },
        "id": "xIKecd5koVD3",
        "outputId": "af1f4aff-f701-499f-c982-eb1df30c5619"
      },
      "execution_count": null,
      "outputs": [
        {
          "output_type": "execute_result",
          "data": {
            "text/plain": [
              "array([[-4.35491885,  6.33096348, -5.81280878,  0.71073579],\n",
              "       [-0.1535507 ,  0.41335711, -0.44124504,  4.97236024],\n",
              "       [-5.63332814, -1.44982941,  0.35258915,  0.78357392],\n",
              "       [ 0.25345681,  5.18569569, -3.70126497,  5.05058305],\n",
              "       [ 7.07183028, -1.25418903,  2.09417836, -8.71029492]])"
            ]
          },
          "metadata": {},
          "execution_count": 5
        }
      ]
    },
    {
      "cell_type": "markdown",
      "source": [
        "array([[-4.35491885,  6.33096348, -5.81280878,  0.71073579],\n",
        "       [-0.1535507 ,  0.41335711, -0.44124504,  4.97236024],\n",
        "       [-5.63332814, -1.44982941,  0.35258915,  0.78357392],\n",
        "       [ 0.25345681,  5.18569569, -3.70126497,  5.05058305],\n",
        "       [ 7.07183028, -1.25418903,  2.09417836, -8.71029492]])"
      ],
      "metadata": {
        "id": "HxN164Fc7emq"
      }
    },
    {
      "cell_type": "code",
      "source": [
        "syn1"
      ],
      "metadata": {
        "colab": {
          "base_uri": "https://localhost:8080/"
        },
        "id": "0aPu_87qmz3h",
        "outputId": "dd445982-70cd-41d1-cfd9-b4c1eda44511"
      },
      "execution_count": null,
      "outputs": [
        {
          "output_type": "execute_result",
          "data": {
            "text/plain": [
              "array([[  2.07935484,  12.46266627],\n",
              "       [  8.79461484,  -4.25471526],\n",
              "       [ -7.12424243,   5.3049791 ],\n",
              "       [-13.39786643,  -6.82527069],\n",
              "       [ -1.68811209,  -1.48972636]])"
            ]
          },
          "metadata": {},
          "execution_count": 6
        }
      ]
    },
    {
      "cell_type": "markdown",
      "source": [
        "array([[  2.07935484,  12.46266627],\n",
        "       [  8.79461484,  -4.25471526],\n",
        "       [ -7.12424243,   5.3049791 ],\n",
        "       [-13.39786643,  -6.82527069],\n",
        "       [ -1.68811209,  -1.48972636]])"
      ],
      "metadata": {
        "id": "pvzUVuVZ7hTY"
      }
    }
  ],
  "metadata": {
    "kernelspec": {
      "display_name": "Python 3",
      "language": "python",
      "name": "python3"
    },
    "language_info": {
      "codemirror_mode": {
        "name": "ipython",
        "version": 3
      },
      "file_extension": ".py",
      "mimetype": "text/x-python",
      "name": "python",
      "nbconvert_exporter": "python",
      "pygments_lexer": "ipython3",
      "version": "3.7.6"
    },
    "colab": {
      "provenance": [],
      "include_colab_link": true
    }
  },
  "nbformat": 4,
  "nbformat_minor": 0
}