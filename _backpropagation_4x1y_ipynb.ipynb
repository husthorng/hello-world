{
  "cells": [
    {
      "cell_type": "markdown",
      "metadata": {
        "id": "view-in-github",
        "colab_type": "text"
      },
      "source": [
        "<a href=\"https://colab.research.google.com/github/husthorng/hello-world/blob/main/_backpropagation_4x1y_ipynb.ipynb\" target=\"_parent\"><img src=\"https://colab.research.google.com/assets/colab-badge.svg\" alt=\"Open In Colab\"/></a>"
      ]
    },
    {
      "cell_type": "code",
      "source": [],
      "metadata": {
        "id": "pfPfkwTKsymJ"
      },
      "execution_count": null,
      "outputs": []
    },
    {
      "cell_type": "code",
      "source": [
        "from google.colab import drive\n",
        "drive.mount('/content/drive')"
      ],
      "metadata": {
        "id": "UYpTtY9kiy6V"
      },
      "execution_count": null,
      "outputs": []
    },
    {
      "cell_type": "code",
      "execution_count": null,
      "metadata": {
        "id": "_rYi2L6lrEAD"
      },
      "outputs": [],
      "source": [
        "import numpy as np\n",
        "\n",
        "def nonlin(x,deriv=False):\n",
        "    if(deriv==True):\n",
        "        return x*(1-x)\n",
        "\n",
        "    return 1/(1+np.exp(-x))"
      ]
    },
    {
      "cell_type": "code",
      "source": [
        "nonlin(5.71,deriv=False)"
      ],
      "metadata": {
        "colab": {
          "base_uri": "https://localhost:8080/"
        },
        "id": "SgtJQ_APmpcT",
        "outputId": "d5976be0-47e4-4f4d-cb49-f39d0722b065"
      },
      "execution_count": null,
      "outputs": [
        {
          "output_type": "execute_result",
          "data": {
            "text/plain": [
              "0.9966982650219125"
            ]
          },
          "metadata": {},
          "execution_count": 3
        }
      ]
    },
    {
      "cell_type": "code",
      "execution_count": null,
      "metadata": {
        "id": "hbYTcXQvrEAF"
      },
      "outputs": [],
      "source": [
        "X = np.array([[0,0,1],\n",
        "            [0,1,1],\n",
        "            [1,0,1],\n",
        "            [1,1,1]])\n",
        "\n",
        "y = np.array([[0],\n",
        "            [1],\n",
        "            [1],\n",
        "            [0]])"
      ]
    },
    {
      "cell_type": "code",
      "source": [
        "import csv\n",
        "import pandas as pd\n",
        "\n",
        "numTag=1   #   輸出的數目\n",
        "nnode=4\n",
        "url = \"exdata4X1y.csv\"\n",
        "records = pd.read_csv(url,encoding='utf-8',header=None)\n",
        "Xi=records.iloc[0:records.shape[0],0:records.shape[1]-numTag].values\n",
        "y=records.iloc[:,list(records.shape[1]-np.arange(numTag,0,-1))].values"
      ],
      "metadata": {
        "id": "-wJh-HgoithC"
      },
      "execution_count": null,
      "outputs": []
    },
    {
      "cell_type": "code",
      "source": [
        "Xi"
      ],
      "metadata": {
        "colab": {
          "base_uri": "https://localhost:8080/"
        },
        "id": "mer4NwEO6ApT",
        "outputId": "a9c44891-5aa1-483e-e3f2-0dfc29fa24e0"
      },
      "execution_count": null,
      "outputs": [
        {
          "output_type": "execute_result",
          "data": {
            "text/plain": [
              "array([[0, 0, 1, 1],\n",
              "       [0, 1, 1, 0],\n",
              "       [1, 0, 1, 1],\n",
              "       [1, 1, 1, 1],\n",
              "       [0, 0, 1, 0],\n",
              "       [1, 1, 0, 0],\n",
              "       [1, 1, 1, 0],\n",
              "       [1, 0, 1, 0]])"
            ]
          },
          "metadata": {},
          "execution_count": 5
        }
      ]
    },
    {
      "cell_type": "code",
      "execution_count": null,
      "metadata": {
        "id": "A6ZFtxiKrEAG"
      },
      "outputs": [],
      "source": [
        "X=np.insert(Xi,Xi[0].size,1,axis=1)"
      ]
    },
    {
      "cell_type": "code",
      "source": [
        "X[0]"
      ],
      "metadata": {
        "id": "wSf42oKRv_mM"
      },
      "execution_count": null,
      "outputs": []
    },
    {
      "cell_type": "code",
      "execution_count": null,
      "metadata": {
        "id": "1_lrFs06rEAG",
        "colab": {
          "base_uri": "https://localhost:8080/"
        },
        "outputId": "7887472e-8a81-4d4b-e9aa-b70091ce9fb3"
      },
      "outputs": [
        {
          "output_type": "execute_result",
          "data": {
            "text/plain": [
              "array([[1],\n",
              "       [0],\n",
              "       [1],\n",
              "       [0],\n",
              "       [0],\n",
              "       [1],\n",
              "       [1],\n",
              "       [0]])"
            ]
          },
          "metadata": {},
          "execution_count": 7
        }
      ],
      "source": [
        "\n",
        "y"
      ]
    },
    {
      "cell_type": "code",
      "source": [
        "np.random.seed(1)\n",
        "# randomly initialize our weights with mean 0\n",
        "syn0 = 2*np.random.random((X[0].size,nnode)) - 1\n",
        "syn1 = 2*np.random.random((nnode+1,numTag)) - 1\n",
        "\n"
      ],
      "metadata": {
        "id": "oluEq-S0zjEk"
      },
      "execution_count": null,
      "outputs": []
    },
    {
      "cell_type": "code",
      "source": [
        "syn0"
      ],
      "metadata": {
        "colab": {
          "base_uri": "https://localhost:8080/"
        },
        "id": "xIKecd5koVD3",
        "outputId": "057e20c0-06de-4af9-a2b8-2fb2afc71636"
      },
      "execution_count": null,
      "outputs": [
        {
          "output_type": "execute_result",
          "data": {
            "text/plain": [
              "array([[-0.16595599,  0.44064899, -0.99977125, -0.39533485],\n",
              "       [-0.70648822, -0.81532281, -0.62747958, -0.30887855],\n",
              "       [-0.20646505,  0.07763347, -0.16161097,  0.370439  ],\n",
              "       [-0.5910955 ,  0.75623487, -0.94522481,  0.34093502],\n",
              "       [-0.1653904 ,  0.11737966, -0.71922612, -0.60379702]])"
            ]
          },
          "metadata": {},
          "execution_count": 9
        }
      ]
    },
    {
      "cell_type": "code",
      "source": [
        "syn1"
      ],
      "metadata": {
        "colab": {
          "base_uri": "https://localhost:8080/"
        },
        "id": "KzCsVeX_7jgI",
        "outputId": "b1ee3880-93c5-4788-db7b-406bd8f0d0ee"
      },
      "execution_count": null,
      "outputs": [
        {
          "output_type": "execute_result",
          "data": {
            "text/plain": [
              "array([[ 0.60148914],\n",
              "       [ 0.93652315],\n",
              "       [-0.37315164],\n",
              "       [ 0.38464523],\n",
              "       [ 0.7527783 ]])"
            ]
          },
          "metadata": {},
          "execution_count": 10
        }
      ]
    },
    {
      "cell_type": "code",
      "source": [
        "l0 = X\n",
        "l1 = nonlin(np.dot(l0,syn0))\n",
        "l1=np.insert(l1,l1[0].size,1,axis=1)\n",
        "l2 = nonlin(np.dot(l1,syn1))\n",
        "l2_error = y - l2"
      ],
      "metadata": {
        "id": "eQQxyXTz5wZ_"
      },
      "execution_count": null,
      "outputs": []
    },
    {
      "cell_type": "code",
      "source": [
        "print(X)\n",
        "print(syn0)"
      ],
      "metadata": {
        "colab": {
          "base_uri": "https://localhost:8080/"
        },
        "id": "b5pgNblByXsN",
        "outputId": "3ce7801d-de77-4f29-95c5-a5468e7918fa"
      },
      "execution_count": null,
      "outputs": [
        {
          "output_type": "stream",
          "name": "stdout",
          "text": [
            "[[0 0 1 1 1]\n",
            " [0 1 1 0 1]\n",
            " [1 0 1 1 1]\n",
            " [1 1 1 1 1]\n",
            " [0 0 1 0 1]\n",
            " [1 1 0 0 1]\n",
            " [1 1 1 0 1]\n",
            " [1 0 1 0 1]]\n",
            "[[-0.16595599  0.44064899 -0.99977125 -0.39533485]\n",
            " [-0.70648822 -0.81532281 -0.62747958 -0.30887855]\n",
            " [-0.20646505  0.07763347 -0.16161097  0.370439  ]\n",
            " [-0.5910955   0.75623487 -0.94522481  0.34093502]\n",
            " [-0.1653904   0.11737966 -0.71922612 -0.60379702]]\n"
          ]
        }
      ]
    },
    {
      "cell_type": "code",
      "source": [
        "l0 = X\n",
        "np.dot(l0,syn0)\n"
      ],
      "metadata": {
        "colab": {
          "base_uri": "https://localhost:8080/"
        },
        "id": "wMfMHnTwzKhA",
        "outputId": "35c7a118-2d19-48e0-ffa3-d67eba5d3ac6"
      },
      "execution_count": null,
      "outputs": [
        {
          "output_type": "execute_result",
          "data": {
            "text/plain": [
              "array([[-0.96295095,  0.951248  , -1.82606191,  0.107577  ],\n",
              "       [-1.07834367, -0.62030969, -1.50831667, -0.54223657],\n",
              "       [-1.12890694,  1.39189698, -2.82583316, -0.28775786],\n",
              "       [-1.83539516,  0.57657417, -3.45331274, -0.5966364 ],\n",
              "       [-0.37185545,  0.19501312, -0.88083709, -0.23335802],\n",
              "       [-1.0378346 , -0.25729417, -2.34647695, -1.30801042],\n",
              "       [-1.24429966, -0.1796607 , -2.50808792, -0.93757142],\n",
              "       [-0.53781144,  0.63566211, -1.88060834, -0.62869288]])"
            ]
          },
          "metadata": {},
          "execution_count": 13
        }
      ]
    },
    {
      "cell_type": "code",
      "source": [
        "nonlin(np.dot(l0,syn0))"
      ],
      "metadata": {
        "colab": {
          "base_uri": "https://localhost:8080/"
        },
        "id": "Lx2AZSut2kTz",
        "outputId": "a1058d01-e7fa-481d-82e1-b075ae4bb1b2"
      },
      "execution_count": null,
      "outputs": [
        {
          "output_type": "execute_result",
          "data": {
            "text/plain": [
              "array([[0.27628776, 0.72136609, 0.13870808, 0.52686834],\n",
              "       [0.25381959, 0.34971102, 0.1811884 , 0.36766745],\n",
              "       [0.24436288, 0.80089491, 0.05594406, 0.42855287],\n",
              "       [0.13759681, 0.64027874, 0.03067022, 0.35511361],\n",
              "       [0.40809276, 0.54859936, 0.29300434, 0.44192381],\n",
              "       [0.26156802, 0.43602898, 0.08734621, 0.21281996],\n",
              "       [0.22368846, 0.45520525, 0.07529313, 0.28139117],\n",
              "       [0.36869684, 0.65377222, 0.13231901, 0.34780698]])"
            ]
          },
          "metadata": {},
          "execution_count": 14
        }
      ]
    },
    {
      "cell_type": "code",
      "source": [
        "l1"
      ],
      "metadata": {
        "colab": {
          "base_uri": "https://localhost:8080/"
        },
        "id": "5HcJRo9R30oE",
        "outputId": "8927c92f-f47e-47c8-d0f8-8e70d2297bb2"
      },
      "execution_count": null,
      "outputs": [
        {
          "output_type": "execute_result",
          "data": {
            "text/plain": [
              "array([[0.27628776, 0.72136609, 0.13870808, 0.52686834, 1.        ],\n",
              "       [0.25381959, 0.34971102, 0.1811884 , 0.36766745, 1.        ],\n",
              "       [0.24436288, 0.80089491, 0.05594406, 0.42855287, 1.        ],\n",
              "       [0.13759681, 0.64027874, 0.03067022, 0.35511361, 1.        ],\n",
              "       [0.40809276, 0.54859936, 0.29300434, 0.44192381, 1.        ],\n",
              "       [0.26156802, 0.43602898, 0.08734621, 0.21281996, 1.        ],\n",
              "       [0.22368846, 0.45520525, 0.07529313, 0.28139117, 1.        ],\n",
              "       [0.36869684, 0.65377222, 0.13231901, 0.34780698, 1.        ]])"
            ]
          },
          "metadata": {},
          "execution_count": 15
        }
      ]
    },
    {
      "cell_type": "code",
      "source": [
        "syn0"
      ],
      "metadata": {
        "colab": {
          "base_uri": "https://localhost:8080/"
        },
        "id": "1i8Ok5I-4YSn",
        "outputId": "2d7a41b0-7fbc-40a9-93d7-9c0faa67ca6e"
      },
      "execution_count": null,
      "outputs": [
        {
          "output_type": "execute_result",
          "data": {
            "text/plain": [
              "array([[-0.16595599,  0.44064899, -0.99977125, -0.39533485],\n",
              "       [-0.70648822, -0.81532281, -0.62747958, -0.30887855],\n",
              "       [-0.20646505,  0.07763347, -0.16161097,  0.370439  ],\n",
              "       [-0.5910955 ,  0.75623487, -0.94522481,  0.34093502],\n",
              "       [-0.1653904 ,  0.11737966, -0.71922612, -0.60379702]])"
            ]
          },
          "metadata": {},
          "execution_count": 16
        }
      ]
    },
    {
      "cell_type": "code",
      "source": [
        "np.dot(l1,syn1)"
      ],
      "metadata": {
        "colab": {
          "base_uri": "https://localhost:8080/"
        },
        "id": "q9WpMO9W4NZT",
        "outputId": "0fd33e7c-8daf-477e-ccc4-9201d25599f0"
      },
      "execution_count": null,
      "outputs": [
        {
          "output_type": "execute_result",
          "data": {
            "text/plain": [
              "array([[1.74543668],\n",
              "       [1.30677128],\n",
              "       [1.79378175],\n",
              "       [1.56032527],\n",
              "       [1.5726665 ],\n",
              "       [1.36772666],\n",
              "       [1.39377475],\n",
              "       [1.67122551]])"
            ]
          },
          "metadata": {},
          "execution_count": 17
        }
      ]
    },
    {
      "cell_type": "code",
      "source": [
        "l2=nonlin(np.dot(l1,syn1))\n",
        "l2"
      ],
      "metadata": {
        "colab": {
          "base_uri": "https://localhost:8080/"
        },
        "id": "S-5X7Evw6Vi4",
        "outputId": "c56f3a22-2556-415e-f64f-54a248b72532"
      },
      "execution_count": null,
      "outputs": [
        {
          "output_type": "execute_result",
          "data": {
            "text/plain": [
              "array([[0.85137631],\n",
              "       [0.78697237],\n",
              "       [0.8573903 ],\n",
              "       [0.82640002],\n",
              "       [0.82816341],\n",
              "       [0.79701261],\n",
              "       [0.80119418],\n",
              "       [0.84173914]])"
            ]
          },
          "metadata": {},
          "execution_count": 18
        }
      ]
    },
    {
      "cell_type": "code",
      "source": [
        "y - l2"
      ],
      "metadata": {
        "colab": {
          "base_uri": "https://localhost:8080/"
        },
        "id": "xcg4wGr27bVK",
        "outputId": "5cb8fe6e-406f-4a4c-b6fd-06d38aeb6b8a"
      },
      "execution_count": null,
      "outputs": [
        {
          "output_type": "execute_result",
          "data": {
            "text/plain": [
              "array([[ 0.14862369],\n",
              "       [-0.78697237],\n",
              "       [ 0.1426097 ],\n",
              "       [-0.82640002],\n",
              "       [-0.82816341],\n",
              "       [ 0.20298739],\n",
              "       [ 0.19880582],\n",
              "       [-0.84173914]])"
            ]
          },
          "metadata": {},
          "execution_count": 19
        }
      ]
    },
    {
      "cell_type": "code",
      "source": [
        "l2_delta = l2_error*nonlin(l2,deriv=True)\n",
        "l2_delta"
      ],
      "metadata": {
        "colab": {
          "base_uri": "https://localhost:8080/"
        },
        "id": "3-eyD3s59ehS",
        "outputId": "cc1906e2-1afd-4854-cba0-d005f88ea754"
      },
      "execution_count": null,
      "outputs": [
        {
          "output_type": "execute_result",
          "data": {
            "text/plain": [
              "array([[ 0.01880605],\n",
              "       [-0.13193344],\n",
              "       [ 0.0174372 ],\n",
              "       [-0.11855785],\n",
              "       [-0.11785492],\n",
              "       [ 0.03284001],\n",
              "       [ 0.0316662 ],\n",
              "       [-0.11213174]])"
            ]
          },
          "metadata": {},
          "execution_count": 20
        }
      ]
    },
    {
      "cell_type": "code",
      "source": [
        "l1_error=l2_delta.dot(syn1.T)\n",
        "l1_error"
      ],
      "metadata": {
        "colab": {
          "base_uri": "https://localhost:8080/"
        },
        "id": "2YBgqwf_-jB0",
        "outputId": "ece8f5c6-ebb3-435c-9dc2-16d4c1c69d45"
      },
      "execution_count": null,
      "outputs": [
        {
          "output_type": "execute_result",
          "data": {
            "text/plain": [
              "array([[ 0.01131164,  0.0176123 , -0.00701751,  0.00723366,  0.01415679],\n",
              "       [-0.07935653, -0.12355873,  0.04923118, -0.05074757, -0.09931663],\n",
              "       [ 0.01048828,  0.01633034, -0.00650672,  0.00670713,  0.01312634],\n",
              "       [-0.07131126, -0.11103217,  0.04424006, -0.04560271, -0.08924778],\n",
              "       [-0.07088846, -0.11037386,  0.04397776, -0.04533233, -0.08871863],\n",
              "       [ 0.01975291,  0.03075543, -0.0122543 ,  0.01263175,  0.02472125],\n",
              "       [ 0.01904688,  0.02965613, -0.0118163 ,  0.01218025,  0.02383763],\n",
              "       [-0.06744602, -0.10501397,  0.04184214, -0.04313094, -0.08441034]])"
            ]
          },
          "metadata": {},
          "execution_count": 21
        }
      ]
    },
    {
      "cell_type": "code",
      "source": [
        "l1_delta = l1_error * nonlin(l1,deriv=True)"
      ],
      "metadata": {
        "id": "jFu1hKJZBwbg"
      },
      "execution_count": null,
      "outputs": []
    },
    {
      "cell_type": "code",
      "source": [
        "l1.T.dot(l2_delta)\n"
      ],
      "metadata": {
        "colab": {
          "base_uri": "https://localhost:8080/"
        },
        "id": "AR8nH2GSFk6n",
        "outputId": "b3cd81ae-07a2-425e-c18f-a88a97e9fbfa"
      },
      "execution_count": null,
      "outputs": [
        {
          "output_type": "execute_result",
          "data": {
            "text/plain": [
              "array([[-0.11410869],\n",
              "       [-0.20374717],\n",
              "       [-0.06807341],\n",
              "       [-0.14841156],\n",
              "       [-0.37972849]])"
            ]
          },
          "metadata": {},
          "execution_count": 23
        }
      ]
    },
    {
      "cell_type": "code",
      "source": [
        "a=syn1+l1.T.dot(l2_delta)\n",
        "a"
      ],
      "metadata": {
        "colab": {
          "base_uri": "https://localhost:8080/"
        },
        "id": "K8eKOtKOHSFN",
        "outputId": "dff0a859-35cf-4e4c-95de-499c21ae1156"
      },
      "execution_count": null,
      "outputs": [
        {
          "output_type": "execute_result",
          "data": {
            "text/plain": [
              "array([[ 0.48738045],\n",
              "       [ 0.73277598],\n",
              "       [-0.44122506],\n",
              "       [ 0.23623367],\n",
              "       [ 0.37304981]])"
            ]
          },
          "metadata": {},
          "execution_count": 24
        }
      ]
    },
    {
      "cell_type": "code",
      "source": [
        "b=l0.T.dot(l1_delta)[:,:-1]\n",
        "b"
      ],
      "metadata": {
        "colab": {
          "base_uri": "https://localhost:8080/"
        },
        "id": "1N28IGNyIGfO",
        "outputId": "82260e07-3701-4651-d6a5-95e5d0d7ff38"
      },
      "execution_count": null,
      "outputs": [
        {
          "output_type": "execute_result",
          "data": {
            "text/plain": [
              "array([[-0.01510131, -0.03182188,  0.00397594, -0.0140054 ],\n",
              "       [-0.01636902, -0.0387545 ,  0.00681956, -0.01766245],\n",
              "       [-0.04880787, -0.09127652,  0.02052846, -0.03729677],\n",
              "       [-0.00426362, -0.01942904,  0.00013322, -0.00699764],\n",
              "       [-0.04499259, -0.08371353,  0.01955159, -0.0351806 ]])"
            ]
          },
          "metadata": {},
          "execution_count": 25
        }
      ]
    },
    {
      "cell_type": "code",
      "source": [
        "syn0"
      ],
      "metadata": {
        "colab": {
          "base_uri": "https://localhost:8080/"
        },
        "id": "gaNbvhRpK-Dl",
        "outputId": "d1f7b128-153f-41d8-ef8e-a809b7c04922"
      },
      "execution_count": null,
      "outputs": [
        {
          "output_type": "execute_result",
          "data": {
            "text/plain": [
              "array([[-0.16595599,  0.44064899, -0.99977125, -0.39533485],\n",
              "       [-0.70648822, -0.81532281, -0.62747958, -0.30887855],\n",
              "       [-0.20646505,  0.07763347, -0.16161097,  0.370439  ],\n",
              "       [-0.5910955 ,  0.75623487, -0.94522481,  0.34093502],\n",
              "       [-0.1653904 ,  0.11737966, -0.71922612, -0.60379702]])"
            ]
          },
          "metadata": {},
          "execution_count": 26
        }
      ]
    },
    {
      "cell_type": "code",
      "execution_count": null,
      "metadata": {
        "id": "oJ1n0RSarEAG",
        "outputId": "fb6fd949-e69a-4f25-a9c2-55a7c3894a10",
        "colab": {
          "base_uri": "https://localhost:8080/"
        }
      },
      "outputs": [
        {
          "output_type": "stream",
          "name": "stdout",
          "text": [
            "Error:0.49703769282908905\n",
            "Error:0.006160708519518814\n",
            "Error:0.004190435976085491\n",
            "Error:0.003360664294740008\n",
            "Error:0.0028783078771088162\n",
            "Error:0.002554388926005436\n"
          ]
        }
      ],
      "source": [
        "for j in range(60000):\n",
        "\n",
        "\t# Feed forward through layers 0, 1, and 2\n",
        "    l0 = X\n",
        "    l1 = nonlin(np.dot(l0,syn0))\n",
        "    l1=np.insert(l1,l1[0].size,1,axis=1)\n",
        "    l2 = nonlin(np.dot(l1,syn1))\n",
        "\n",
        "    # how much did we miss the target value?\n",
        "    l2_error = y - l2\n",
        "\n",
        "    if (j% 10000) == 0:\n",
        "        print(\"Error:\" + str(np.mean(np.abs(l2_error))))\n",
        "\n",
        "    # in what direction is the target value?\n",
        "    # were we really sure? if so, don't change too much.\n",
        "    l2_delta = l2_error*nonlin(l2,deriv=True)\n",
        "\n",
        "    # how much did each l1 value contribute to the l2 error (according to the weights)?\n",
        "    l1_error = l2_delta.dot(syn1.T)\n",
        "\n",
        "    # in what direction is the target l1?\n",
        "    # were we really sure? if so, don't change too much.\n",
        "    l1_delta = l1_error * nonlin(l1,deriv=True)\n",
        "\n",
        "    syn1 += l1.T.dot(l2_delta)\n",
        "    syn0 += l0.T.dot(l1_delta)[:,:-1]\n"
      ]
    },
    {
      "cell_type": "code",
      "source": [
        "syn1"
      ],
      "metadata": {
        "id": "AVi2ny6HJfLk",
        "outputId": "eac72a0d-f982-4a02-9902-24795e9652d4",
        "colab": {
          "base_uri": "https://localhost:8080/"
        }
      },
      "execution_count": null,
      "outputs": [
        {
          "output_type": "execute_result",
          "data": {
            "text/plain": [
              "array([[ 7.66137175],\n",
              "       [12.38983421],\n",
              "       [-9.2833714 ],\n",
              "       [-6.48193551],\n",
              "       [ 0.60008338]])"
            ]
          },
          "metadata": {},
          "execution_count": 30
        }
      ]
    },
    {
      "cell_type": "code",
      "source": [
        "import numpy as np\n",
        "syn0=np.array([[ 2.58124076, -0.06893844, -5.56808533, -1.20729539],\n",
        "       [-0.56194801, -6.33335632, -1.29760143,  0.6457777 ],\n",
        "       [-2.0393265 ,  1.36316137,  2.3763829 ,  2.19240479],\n",
        "       [-2.62104582, -4.91395889, -7.72245903,  1.33584484],\n",
        "       [-0.1280758 ,  7.03370268,  1.13354858, -0.09640023]])\n",
        "\n",
        "syn1=np.array([[  3.2736903 ],\n",
        "       [ 12.89446755],\n",
        "       [-13.24322306],\n",
        "       [ -3.99138576],\n",
        "       [ -2.77186187]])\n",
        "XXa=np.array([0,0,1,1])\n",
        "XX=np.insert(XXa,XXa.size,1)\n",
        "print(np.dot(XX,syn0))\n",
        "#for (j=0; j<5; j++){\n",
        "#    print(i)\n",
        "#    }"
      ],
      "metadata": {
        "id": "x-L7_8BJZLXN",
        "colab": {
          "base_uri": "https://localhost:8080/"
        },
        "outputId": "72d990a8-19a3-4207-f98c-f54c04368cd8"
      },
      "execution_count": null,
      "outputs": [
        {
          "output_type": "stream",
          "name": "stdout",
          "text": [
            "[-4.78844812  3.48290516 -4.21252755  3.4318494 ]\n"
          ]
        }
      ]
    },
    {
      "cell_type": "code",
      "source": [
        "syn1[0][0]"
      ],
      "metadata": {
        "colab": {
          "base_uri": "https://localhost:8080/"
        },
        "id": "mZRgLHbSjemn",
        "outputId": "36b65c7b-9947-44fe-c34c-f168e1d748bf"
      },
      "execution_count": null,
      "outputs": [
        {
          "output_type": "execute_result",
          "data": {
            "text/plain": [
              "3.2736903"
            ]
          },
          "metadata": {},
          "execution_count": 3
        }
      ]
    },
    {
      "cell_type": "code",
      "source": [
        "XX1=nonlin(np.dot(XX,syn0))\n",
        "XX1"
      ],
      "metadata": {
        "colab": {
          "base_uri": "https://localhost:8080/"
        },
        "id": "XyE7zJm2kTSB",
        "outputId": "d759441c-4f93-48e8-f594-08e18fe68dcf"
      },
      "execution_count": null,
      "outputs": [
        {
          "output_type": "execute_result",
          "data": {
            "text/plain": [
              "array([0.00825663, 0.97019744, 0.01459279, 0.96868522])"
            ]
          },
          "metadata": {},
          "execution_count": 55
        }
      ]
    },
    {
      "cell_type": "code",
      "source": [
        "XX1.size"
      ],
      "metadata": {
        "colab": {
          "base_uri": "https://localhost:8080/"
        },
        "id": "0OqnKdJSlMt6",
        "outputId": "4f0c5ef6-a6f5-439e-ea28-68e457bb5050"
      },
      "execution_count": null,
      "outputs": [
        {
          "output_type": "execute_result",
          "data": {
            "text/plain": [
              "4"
            ]
          },
          "metadata": {},
          "execution_count": 56
        }
      ]
    },
    {
      "cell_type": "code",
      "source": [
        "XX2=np.insert(XX1,XX1.size,1)\n",
        "XX2"
      ],
      "metadata": {
        "colab": {
          "base_uri": "https://localhost:8080/"
        },
        "id": "A_QtrUOnlBfs",
        "outputId": "245ed685-61a1-4f34-a653-a82670b3a757"
      },
      "execution_count": null,
      "outputs": [
        {
          "output_type": "execute_result",
          "data": {
            "text/plain": [
              "array([0.00825663, 0.97019744, 0.01459279, 0.96868522, 1.        ])"
            ]
          },
          "metadata": {},
          "execution_count": 57
        }
      ]
    },
    {
      "cell_type": "code",
      "source": [
        "np.dot(XX2,syn1)"
      ],
      "metadata": {
        "colab": {
          "base_uri": "https://localhost:8080/"
        },
        "id": "3-12EQflmMMZ",
        "outputId": "6de0f5a7-ea65-4bfa-c79a-9d85b5f614a5"
      },
      "execution_count": null,
      "outputs": [
        {
          "output_type": "execute_result",
          "data": {
            "text/plain": [
              "array([5.7056952])"
            ]
          },
          "metadata": {},
          "execution_count": 58
        }
      ]
    },
    {
      "cell_type": "code",
      "source": [
        "nonlin(np.dot(XX2,syn1))"
      ],
      "metadata": {
        "colab": {
          "base_uri": "https://localhost:8080/"
        },
        "id": "FbuzA6NdmYRt",
        "outputId": "c12b4819-4acc-42b4-e4c6-4e376b5a10dd"
      },
      "execution_count": null,
      "outputs": [
        {
          "output_type": "execute_result",
          "data": {
            "text/plain": [
              "array([0.99668407])"
            ]
          },
          "metadata": {},
          "execution_count": 59
        }
      ]
    },
    {
      "cell_type": "code",
      "source": [],
      "metadata": {
        "id": "3mFBK2plksig"
      },
      "execution_count": null,
      "outputs": []
    },
    {
      "cell_type": "code",
      "source": [
        "syn1"
      ],
      "metadata": {
        "id": "kjB-PanuJhzt",
        "outputId": "ef2e562e-57b5-4cef-ab2c-bf626c8772a4",
        "colab": {
          "base_uri": "https://localhost:8080/"
        }
      },
      "execution_count": null,
      "outputs": [
        {
          "output_type": "execute_result",
          "data": {
            "text/plain": [
              "array([[  3.2736903 ],\n",
              "       [ 12.89446755],\n",
              "       [-13.24322306],\n",
              "       [ -3.99138576],\n",
              "       [ -2.77186187]])"
            ]
          },
          "metadata": {},
          "execution_count": 28
        }
      ]
    },
    {
      "cell_type": "code",
      "execution_count": null,
      "metadata": {
        "id": "awEKduJ8rEAH",
        "outputId": "4d0837e0-f548-412a-80e4-31d91b09e56c",
        "colab": {
          "base_uri": "https://localhost:8080/"
        }
      },
      "outputs": [
        {
          "output_type": "execute_result",
          "data": {
            "text/plain": [
              "array([[0, 0, 1, 1, 1],\n",
              "       [0, 1, 1, 0, 1],\n",
              "       [1, 0, 1, 1, 1],\n",
              "       [1, 1, 1, 1, 1],\n",
              "       [0, 0, 1, 0, 1],\n",
              "       [1, 1, 0, 0, 1],\n",
              "       [1, 1, 1, 0, 1]])"
            ]
          },
          "metadata": {},
          "execution_count": 34
        }
      ],
      "source": [
        "X[0]\n",
        "X"
      ]
    },
    {
      "cell_type": "code",
      "execution_count": null,
      "metadata": {
        "id": "GY_Z31tVrEAI",
        "outputId": "bb8a677a-5867-4c82-c5e5-bdc5498c47ab",
        "colab": {
          "base_uri": "https://localhost:8080/"
        }
      },
      "outputs": [
        {
          "output_type": "stream",
          "name": "stdout",
          "text": [
            "output after Training:\n",
            "[[9.97292001e-01]\n",
            " [8.87730908e-04]\n",
            " [9.98683338e-01]\n",
            " [2.72015225e-03]\n",
            " [2.11085118e-03]\n",
            " [9.99332995e-01]\n",
            " [9.98620044e-01]]\n"
          ]
        }
      ],
      "source": [
        "#print output\n",
        "print(\"output after Training:\")\n",
        "print(l2)"
      ]
    },
    {
      "cell_type": "code",
      "source": [],
      "metadata": {
        "id": "tEgTw66OJZfe"
      },
      "execution_count": null,
      "outputs": []
    }
  ],
  "metadata": {
    "kernelspec": {
      "display_name": "Python 3",
      "language": "python",
      "name": "python3"
    },
    "language_info": {
      "codemirror_mode": {
        "name": "ipython",
        "version": 3
      },
      "file_extension": ".py",
      "mimetype": "text/x-python",
      "name": "python",
      "nbconvert_exporter": "python",
      "pygments_lexer": "ipython3",
      "version": "3.7.6"
    },
    "colab": {
      "provenance": [],
      "include_colab_link": true
    }
  },
  "nbformat": 4,
  "nbformat_minor": 0
}